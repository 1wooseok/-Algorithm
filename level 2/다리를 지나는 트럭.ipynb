{
 "cells": [
  {
   "cell_type": "markdown",
   "metadata": {},
   "source": [
    "## 첫번쨰 풀이"
   ]
  },
  {
   "cell_type": "markdown",
   "metadata": {},
   "source": [
    "https://school.programmers.co.kr/learn/courses/30/lessons/42583\n",
    "\n",
    "문제를 요약하자면, \n",
    "\n",
    "입력으로 [ \"다리의 길이\", \"다리가 견딜 수 있는 무게\", [트럭들의 무게] ] \n",
    "\n",
    "가 주어졌을떄, 모든 트럭이 다리를 통과하는 시간을 출력하는 문제이다.\n",
    "\n",
    "<br>\n",
    "\n",
    "처음에는 이렇게 생각했다.\n",
    "\n",
    "i) 다리가 견딜 수 있는 만큼 임시 큐에 트럭 추가\n",
    "\n",
    "ii) 임시 큐에 있는 트럭 일괄 처리 ( 이떄 걸리는 시간은 \"다리 길이\" + len(\"임시 큐\") )\n"
   ]
  },
  {
   "cell_type": "code",
   "execution_count": null,
   "metadata": {},
   "outputs": [],
   "source": [
    "from collections import deque\n",
    "\n",
    "def solution(bridge_length, weight, truck_weights):\n",
    "    result = 0\n",
    "    queue = deque(truck_weights)\n",
    "    \n",
    "    while queue:\n",
    "        tmp = deque()\n",
    "        while queue and (sum(tmp) + queue[0]) <= weight:\n",
    "            tmp.append(queue.popleft())\n",
    "     \n",
    "        result += bridge_length + len(tmp)\n",
    "        \n",
    "        \n",
    "    return result"
   ]
  },
  {
   "cell_type": "markdown",
   "metadata": {},
   "source": [
    "## 두번째 시도"
   ]
  },
  {
   "cell_type": "code",
   "execution_count": null,
   "metadata": {},
   "outputs": [],
   "source": [
    "from collections import deque\n",
    "\n",
    "\n",
    "def solution(bridge_length, weight, truck_weights):\n",
    "    time = 0\n",
    "    cross = deque([])\n",
    "    qu = deque(truck_weights)\n",
    "    timeout = bridge_length + 1\n",
    "\n",
    "    while (qu or cross):\n",
    "        time += 1\n",
    "\n",
    "        if (qu and (sum(cross) + qu[0]) <= weight):\n",
    "            cross.append(qu.popleft())\n",
    "\n",
    "        if (time > 0) and (time % timeout == 0):\n",
    "            cross.popleft()\n",
    "\n",
    "            if cross:\n",
    "                time -= 1\n",
    "\n",
    "    return time"
   ]
  },
  {
   "cell_type": "markdown",
   "metadata": {},
   "source": [
    "위의 풀이에서 불가능함을 느낀 부분이 있다.\n",
    "\n",
    "```python\n",
    "if ( time > 0 ) and ( time % timeout == 0 ):\n",
    "    cross.popleft()\n",
    "        \n",
    "    if cross:\n",
    "        time -= 1\n",
    "``` \n",
    "이부분 이였는데,\n",
    "\n",
    "<br>\n",
    "\n",
    "트럭이 통과되는 시간에 건너고 있는 다리 큐에서 뺴내기 위한 조건이다.\n",
    "\n",
    "ex) 다리 길이가 2이면, 3초(timeout) 일때 다리를 통과했으므로 큐에서 제거\n",
    "\n",
    "이렇게 하면 바로뒤에 트럭이 있어도 또 2초를 기다려야 하기때문에\n",
    "\n",
    "아래에 조건문을 추가해 뒤에 트럭이 있는경우에는 시간을 올리지 않았다.\n",
    "\n",
    "당연히 될리가 없고, 트럭이 매우 뒤에 있어서 시간차이가 나는 경우는 처리할 수 없기때문에 불가능하단걸 알았다.\n",
    "\n",
    "    ex) 입력값이 [ 100, 10, [2, 3, 4, 4, 2]]인 경우, \n",
    "    \n",
    "        처음 트럭 (2)가 빠져나갓을떄 다리위에 [4 , ... , 4] 두개의 거리차가 큼"
   ]
  },
  {
   "cell_type": "markdown",
   "metadata": {},
   "source": [
    "## 세번째 시도\n",
    "\n",
    "거리를 계산하기 위해\n",
    "\n",
    "도로를 미리 0으로 깔아둔 큐로 만들어\n",
    "\n",
    "시간이 지날떄마다 트럭의 이동을 표현했다."
   ]
  },
  {
   "cell_type": "code",
   "execution_count": null,
   "metadata": {},
   "outputs": [],
   "source": [
    "from collections import deque\n",
    "\n",
    "def solution(bridge_length, weight, truck_weights):\n",
    "    time = 0\n",
    "    qu = deque(truck_weights)\n",
    "    cross = deque([0] * bridge_length)\n",
    "\n",
    "    while cross:\n",
    "        time += 1\n",
    "        cross.popleft()\n",
    "\n",
    "        if qu:\n",
    "            if ( sum(cross) + qu[0] ) <= weight:\n",
    "                cross.append(qu.popleft())\n",
    "            else:\n",
    "                cross.append(0)\n",
    "\n",
    "    return time"
   ]
  }
 ],
 "metadata": {
  "kernelspec": {
   "display_name": "Python 3.9.7 64-bit",
   "language": "python",
   "name": "python3"
  },
  "language_info": {
   "name": "python",
   "version": "3.9.7"
  },
  "orig_nbformat": 4,
  "vscode": {
   "interpreter": {
    "hash": "b0fa6594d8f4cbf19f97940f81e996739fb7646882a419484c72d19e05852a7e"
   }
  }
 },
 "nbformat": 4,
 "nbformat_minor": 2
}
